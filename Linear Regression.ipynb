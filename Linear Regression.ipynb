{
 "cells": [
  {
   "cell_type": "code",
   "execution_count": null,
   "id": "f26a4838-0292-433e-85f7-805250815b9e",
   "metadata": {},
   "outputs": [],
   "source": [
    "!pip install pandas numpy matplotlib seaborn ipykernel scikit-learn"
   ]
  },
  {
   "cell_type": "code",
   "execution_count": null,
   "id": "78caf9fb-5546-464e-ab75-2d64aa253c81",
   "metadata": {},
   "outputs": [],
   "source": [
    "import pandas as pd\n",
    "import numpy as np\n",
    "import seaborn as sns\n",
    "import matplotlib.pyplot as plt\n"
   ]
  },
  {
   "cell_type": "code",
   "execution_count": null,
   "id": "7f437363-d5ac-4df3-9135-183a89c8098f",
   "metadata": {},
   "outputs": [],
   "source": [
    "df = pd.read_csv('6 advertising.csv')\n",
    "df.head()"
   ]
  },
  {
   "cell_type": "code",
   "execution_count": null,
   "id": "5e4adfa9-bd99-47de-ae12-0a01aae94d31",
   "metadata": {},
   "outputs": [],
   "source": [
    "sns.pairplot(df)"
   ]
  },
  {
   "cell_type": "code",
   "execution_count": null,
   "id": "f5640997-a4f1-4993-a64a-bb0af524ff94",
   "metadata": {},
   "outputs": [],
   "source": [
    "plt.scatter(x=df['TV'], y=df['Sales'])"
   ]
  },
  {
   "cell_type": "markdown",
   "id": "cbd413f6-9971-40be-a0e3-39acda9da6ab",
   "metadata": {},
   "source": [
    "# Train Test Split"
   ]
  },
  {
   "cell_type": "code",
   "execution_count": null,
   "id": "bd8a751f-c64e-416a-a18a-5d110eab2d88",
   "metadata": {},
   "outputs": [],
   "source": [
    "from sklearn.model_selection import train_test_split\n",
    "\n",
    "X_train, X_test, y_train, y_test = train_test_split(df.iloc[:,:-1],df.iloc[:,-1], test_size=0.2, random_state=42)"
   ]
  },
  {
   "cell_type": "code",
   "execution_count": null,
   "id": "cd9b5bd1-e2cb-4405-9fd9-3cff825a1077",
   "metadata": {},
   "outputs": [],
   "source": [
    " X_train.shape, X_test.shape, y_train.shape, y_test.shape"
   ]
  },
  {
   "cell_type": "markdown",
   "id": "37f0926f-403b-45a2-83ea-42071b3c69bb",
   "metadata": {},
   "source": [
    "# Applying Linear Regression"
   ]
  },
  {
   "cell_type": "code",
   "execution_count": null,
   "id": "a95890fc-a9af-4587-acf0-94c838545578",
   "metadata": {},
   "outputs": [],
   "source": [
    "from sklearn.linear_model import LinearRegression\n",
    "lr = LinearRegression()\n",
    "\n",
    "lr.fit(X_train, y_train)\n",
    "y_pred = lr.predict(X_test)"
   ]
  },
  {
   "cell_type": "code",
   "execution_count": null,
   "id": "574ec5b3-da32-4f2a-a918-3acbc23a1678",
   "metadata": {},
   "outputs": [],
   "source": [
    "y_pred"
   ]
  },
  {
   "cell_type": "markdown",
   "id": "7fa11c77-2a11-4ef7-87da-e584453eaeed",
   "metadata": {},
   "source": [
    "# Metrics R2_score"
   ]
  },
  {
   "cell_type": "code",
   "execution_count": null,
   "id": "dcb13490-6132-4e96-bd1c-9086c224ff54",
   "metadata": {},
   "outputs": [],
   "source": [
    "from sklearn.metrics import r2_score, mean_absolute_error\n",
    "mean_absolute_error(y_test, y_pred)"
   ]
  },
  {
   "cell_type": "code",
   "execution_count": null,
   "id": "8b7ff2a2-d0a5-45a6-bb34-3788e8b60c65",
   "metadata": {},
   "outputs": [],
   "source": [
    "r2_score(y_test, y_pred)"
   ]
  },
  {
   "cell_type": "markdown",
   "id": "b1721983-e474-4cf8-abd2-3328097db106",
   "metadata": {},
   "source": [
    "# Predictive System"
   ]
  },
  {
   "cell_type": "code",
   "execution_count": null,
   "id": "5e5a27de-1270-4823-b819-7265472e4caa",
   "metadata": {},
   "outputs": [],
   "source": [
    "def predict_sales(tv_budget, radio_budget, newspaper_budget):\n",
    "    features = np.array([[tv_budget, radio_budget, newspaper_budget]])\n",
    "    results = lr.predict(features).reshape(1 ,-1)\n",
    "    return results[0]"
   ]
  },
  {
   "cell_type": "code",
   "execution_count": null,
   "id": "88269b72-01c0-4857-a2f7-4769d8ef1f0c",
   "metadata": {},
   "outputs": [],
   "source": [
    "df.iloc[0]"
   ]
  },
  {
   "cell_type": "code",
   "execution_count": null,
   "id": "33abd5bd-65d4-4ed0-94f3-a546faf2647b",
   "metadata": {},
   "outputs": [],
   "source": [
    "\n",
    "tv_budget = 230.1\n",
    "radio_budget = 37.8\n",
    "newspaper_budget = 69.2\n",
    "sales = predict_sales(tv_budget, radio_budget, newspaper_budget)\n"
   ]
  },
  {
   "cell_type": "code",
   "execution_count": null,
   "id": "753cd98e-f6be-43b4-a766-8c79d0586be5",
   "metadata": {},
   "outputs": [],
   "source": [
    "sales"
   ]
  },
  {
   "cell_type": "code",
   "execution_count": null,
   "id": "40de2808-fbae-4410-8248-dd21c5e55543",
   "metadata": {},
   "outputs": [],
   "source": [
    "import pickle\n",
    "\n",
    "pickle.dump(lr,open('linear_regression_model.pkl','wb'))"
   ]
  },
  {
   "cell_type": "code",
   "execution_count": null,
   "id": "40e37370-744d-4dbb-a27c-513ed728b74e",
   "metadata": {},
   "outputs": [],
   "source": [
    "!git init"
   ]
  },
  {
   "cell_type": "code",
   "execution_count": null,
   "id": "77e5cf23-496c-4c95-bf82-eb2d69c6dc88",
   "metadata": {},
   "outputs": [],
   "source": [
    "!git add ."
   ]
  },
  {
   "cell_type": "code",
   "execution_count": null,
   "id": "477fcecf-dbf8-4eb0-ad60-a7443d89f17e",
   "metadata": {},
   "outputs": [],
   "source": [
    "!git commit -m \"Initial commit\""
   ]
  },
  {
   "cell_type": "code",
   "execution_count": null,
   "id": "6717c56d-fe30-4c71-989a-7bb3db63d820",
   "metadata": {},
   "outputs": [],
   "source": [
    "!git remote add origin https://github.com/Dhe-Reigner/Linear_Regression.git"
   ]
  },
  {
   "cell_type": "code",
   "execution_count": null,
   "id": "1d9a4ab7-c066-4381-847f-78dda52ceece",
   "metadata": {},
   "outputs": [],
   "source": []
  }
 ],
 "metadata": {
  "kernelspec": {
   "display_name": "Python 3 (ipykernel)",
   "language": "python",
   "name": "python3"
  },
  "language_info": {
   "codemirror_mode": {
    "name": "ipython",
    "version": 3
   },
   "file_extension": ".py",
   "mimetype": "text/x-python",
   "name": "python",
   "nbconvert_exporter": "python",
   "pygments_lexer": "ipython3",
   "version": "3.12.3"
  }
 },
 "nbformat": 4,
 "nbformat_minor": 5
}
